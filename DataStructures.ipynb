{
  "nbformat": 4,
  "nbformat_minor": 0,
  "metadata": {
    "colab": {
      "name": "DataStructures.ipynb",
      "provenance": [],
      "collapsed_sections": [],
      "authorship_tag": "ABX9TyM7GkfF4csMQSZZcn1dcvIJ",
      "include_colab_link": true
    },
    "kernelspec": {
      "name": "python3",
      "display_name": "Python 3"
    },
    "language_info": {
      "name": "python"
    }
  },
  "cells": [
    {
      "cell_type": "markdown",
      "metadata": {
        "id": "view-in-github",
        "colab_type": "text"
      },
      "source": [
        "<a href=\"https://colab.research.google.com/github/Nagasreenivasulu/PythonDataStructures/blob/main/DataStructures.ipynb\" target=\"_parent\"><img src=\"https://colab.research.google.com/assets/colab-badge.svg\" alt=\"Open In Colab\"/></a>"
      ]
    },
    {
      "cell_type": "markdown",
      "metadata": {
        "id": "h9IjPI3Dw0kX"
      },
      "source": [
        "**Primitive Data Structures**\n",
        "\n",
        "Intger\n",
        "\n",
        "Float\n",
        "\n",
        "String\n",
        "\n",
        "Boolean"
      ]
    },
    {
      "cell_type": "code",
      "metadata": {
        "id": "r3ZqRDUuwjsR"
      },
      "source": [
        "a = 20 #Integer\n",
        "b = 29.98 #Float\n",
        "s = 'vasu' #String\n",
        "t = True #Boolean"
      ],
      "execution_count": 1,
      "outputs": []
    },
    {
      "cell_type": "markdown",
      "metadata": {
        "id": "pezR74fnxUDQ"
      },
      "source": [
        "Adding Integer and float"
      ]
    },
    {
      "cell_type": "code",
      "metadata": {
        "colab": {
          "base_uri": "https://localhost:8080/"
        },
        "id": "GmZGHl0RxTOJ",
        "outputId": "3e9f3a85-7782-4a74-94db-cacf2da0abbd"
      },
      "source": [
        "a+b"
      ],
      "execution_count": 2,
      "outputs": [
        {
          "output_type": "execute_result",
          "data": {
            "text/plain": [
              "49.980000000000004"
            ]
          },
          "metadata": {
            "tags": []
          },
          "execution_count": 2
        }
      ]
    },
    {
      "cell_type": "markdown",
      "metadata": {
        "id": "JzZinI_hxrnc"
      },
      "source": [
        "type casting int to string"
      ]
    },
    {
      "cell_type": "code",
      "metadata": {
        "colab": {
          "base_uri": "https://localhost:8080/",
          "height": 36
        },
        "id": "nVurF52zxl0d",
        "outputId": "6d1718ed-7ad7-49c3-c1a7-3f96e66c8471"
      },
      "source": [
        "str(a)"
      ],
      "execution_count": 4,
      "outputs": [
        {
          "output_type": "execute_result",
          "data": {
            "application/vnd.google.colaboratory.intrinsic+json": {
              "type": "string"
            },
            "text/plain": [
              "'20'"
            ]
          },
          "metadata": {
            "tags": []
          },
          "execution_count": 4
        }
      ]
    },
    {
      "cell_type": "markdown",
      "metadata": {
        "id": "Zcxsr9GzxbjC"
      },
      "source": [
        "Concatinating string and integer"
      ]
    },
    {
      "cell_type": "code",
      "metadata": {
        "colab": {
          "base_uri": "https://localhost:8080/",
          "height": 36
        },
        "id": "L1JlAKpQxZRu",
        "outputId": "000a4564-7b23-4fb6-b242-105752bf1f40"
      },
      "source": [
        "str(a)+s"
      ],
      "execution_count": 5,
      "outputs": [
        {
          "output_type": "execute_result",
          "data": {
            "application/vnd.google.colaboratory.intrinsic+json": {
              "type": "string"
            },
            "text/plain": [
              "'20vasu'"
            ]
          },
          "metadata": {
            "tags": []
          },
          "execution_count": 5
        }
      ]
    },
    {
      "cell_type": "code",
      "metadata": {
        "colab": {
          "base_uri": "https://localhost:8080/",
          "height": 36
        },
        "id": "81yZlImXyJ2k",
        "outputId": "8910c8b3-16af-4d2c-c2dd-8ee4e74c8fce"
      },
      "source": [
        "s*2"
      ],
      "execution_count": 7,
      "outputs": [
        {
          "output_type": "execute_result",
          "data": {
            "application/vnd.google.colaboratory.intrinsic+json": {
              "type": "string"
            },
            "text/plain": [
              "'vasuvasu'"
            ]
          },
          "metadata": {
            "tags": []
          },
          "execution_count": 7
        }
      ]
    },
    {
      "cell_type": "markdown",
      "metadata": {
        "id": "xVbXIQNOySBX"
      },
      "source": [
        "**String Operations in python**"
      ]
    },
    {
      "cell_type": "code",
      "metadata": {
        "id": "C0nhsdGnyQL1"
      },
      "source": [
        "s = \"My marks are 100 out of 100\""
      ],
      "execution_count": 8,
      "outputs": []
    },
    {
      "cell_type": "markdown",
      "metadata": {
        "id": "sOhiOYTRyoxe"
      },
      "source": [
        "Converting to lower case"
      ]
    },
    {
      "cell_type": "code",
      "metadata": {
        "colab": {
          "base_uri": "https://localhost:8080/",
          "height": 36
        },
        "id": "eurYYJ1oyswl",
        "outputId": "09991948-fe60-4060-c6ef-13a05af6bbaf"
      },
      "source": [
        "s.lower()"
      ],
      "execution_count": 9,
      "outputs": [
        {
          "output_type": "execute_result",
          "data": {
            "application/vnd.google.colaboratory.intrinsic+json": {
              "type": "string"
            },
            "text/plain": [
              "'my marks are 100 out of 100'"
            ]
          },
          "metadata": {
            "tags": []
          },
          "execution_count": 9
        }
      ]
    },
    {
      "cell_type": "markdown",
      "metadata": {
        "id": "6nyyG5rRyvfL"
      },
      "source": [
        "# Converting upper case"
      ]
    },
    {
      "cell_type": "code",
      "metadata": {
        "colab": {
          "base_uri": "https://localhost:8080/",
          "height": 36
        },
        "id": "kHUD9cSxyxxC",
        "outputId": "8d4ab0b5-2224-4801-a613-b0bc4c586377"
      },
      "source": [
        "s.upper()"
      ],
      "execution_count": 11,
      "outputs": [
        {
          "output_type": "execute_result",
          "data": {
            "application/vnd.google.colaboratory.intrinsic+json": {
              "type": "string"
            },
            "text/plain": [
              "'MY MARKS ARE 100 OUT OF 100'"
            ]
          },
          "metadata": {
            "tags": []
          },
          "execution_count": 11
        }
      ]
    },
    {
      "cell_type": "markdown",
      "metadata": {
        "id": "HVFadH8Fy4cP"
      },
      "source": [
        "# Converting title case"
      ]
    },
    {
      "cell_type": "code",
      "metadata": {
        "colab": {
          "base_uri": "https://localhost:8080/",
          "height": 36
        },
        "id": "LMP3Xj2Ny6ya",
        "outputId": "e5eb1d8f-4c95-4aa3-fbc1-a18c53083d38"
      },
      "source": [
        "s.title() #Every word first letter as capital letter"
      ],
      "execution_count": 12,
      "outputs": [
        {
          "output_type": "execute_result",
          "data": {
            "application/vnd.google.colaboratory.intrinsic+json": {
              "type": "string"
            },
            "text/plain": [
              "'My Marks Are 100 Out Of 100'"
            ]
          },
          "metadata": {
            "tags": []
          },
          "execution_count": 12
        }
      ]
    },
    {
      "cell_type": "markdown",
      "metadata": {
        "id": "O1uG7BOjzLAA"
      },
      "source": [
        "# Capitalizing words"
      ]
    },
    {
      "cell_type": "code",
      "metadata": {
        "colab": {
          "base_uri": "https://localhost:8080/",
          "height": 36
        },
        "id": "4gIZjwrUzUlI",
        "outputId": "1de38965-142f-420b-b24b-2780406d9479"
      },
      "source": [
        "s.capitalize()"
      ],
      "execution_count": 13,
      "outputs": [
        {
          "output_type": "execute_result",
          "data": {
            "application/vnd.google.colaboratory.intrinsic+json": {
              "type": "string"
            },
            "text/plain": [
              "'My marks are 100 out of 100'"
            ]
          },
          "metadata": {
            "tags": []
          },
          "execution_count": 13
        }
      ]
    },
    {
      "cell_type": "markdown",
      "metadata": {
        "id": "pD5HqaIfzmTT"
      },
      "source": [
        "# Converting string into lower case"
      ]
    },
    {
      "cell_type": "code",
      "metadata": {
        "colab": {
          "base_uri": "https://localhost:8080/",
          "height": 36
        },
        "id": "BaYoYklNzsNg",
        "outputId": "c7ebd68a-d46c-4ff4-8aee-91f2e742b204"
      },
      "source": [
        "s.casefold()"
      ],
      "execution_count": 14,
      "outputs": [
        {
          "output_type": "execute_result",
          "data": {
            "application/vnd.google.colaboratory.intrinsic+json": {
              "type": "string"
            },
            "text/plain": [
              "'my marks are 100 out of 100'"
            ]
          },
          "metadata": {
            "tags": []
          },
          "execution_count": 14
        }
      ]
    },
    {
      "cell_type": "markdown",
      "metadata": {
        "id": "AciTeyNhzyur"
      },
      "source": [
        "# Return count of specified value"
      ]
    },
    {
      "cell_type": "code",
      "metadata": {
        "colab": {
          "base_uri": "https://localhost:8080/"
        },
        "id": "goB-ZIiwz24D",
        "outputId": "c2b2ccb7-72be-41c1-c8ad-6aabdc7c431f"
      },
      "source": [
        "s.count('a')"
      ],
      "execution_count": 23,
      "outputs": [
        {
          "output_type": "execute_result",
          "data": {
            "text/plain": [
              "2"
            ]
          },
          "metadata": {
            "tags": []
          },
          "execution_count": 23
        }
      ]
    },
    {
      "cell_type": "markdown",
      "metadata": {
        "id": "S3T4Jclx0htT"
      },
      "source": [
        "# Position of specified value"
      ]
    },
    {
      "cell_type": "code",
      "metadata": {
        "colab": {
          "base_uri": "https://localhost:8080/"
        },
        "id": "ry1F8tvP0ccL",
        "outputId": "1c24d188-41fe-49a1-d471-427d119f53c1"
      },
      "source": [
        "s.find('a')"
      ],
      "execution_count": 24,
      "outputs": [
        {
          "output_type": "execute_result",
          "data": {
            "text/plain": [
              "4"
            ]
          },
          "metadata": {
            "tags": []
          },
          "execution_count": 24
        }
      ]
    },
    {
      "cell_type": "markdown",
      "metadata": {
        "id": "_mZmNXsy1RWK"
      },
      "source": [
        "Splitting String"
      ]
    },
    {
      "cell_type": "code",
      "metadata": {
        "colab": {
          "base_uri": "https://localhost:8080/"
        },
        "id": "HA-h0wox1TU9",
        "outputId": "cf34f0b2-fc03-4eb0-85bf-eaa56d8349c3"
      },
      "source": [
        "s.split()"
      ],
      "execution_count": 26,
      "outputs": [
        {
          "output_type": "execute_result",
          "data": {
            "text/plain": [
              "['My', 'marks', 'are', '100', 'out', 'of', '100']"
            ]
          },
          "metadata": {
            "tags": []
          },
          "execution_count": 26
        }
      ]
    },
    {
      "cell_type": "markdown",
      "metadata": {
        "id": "In_Zeh0R0307"
      },
      "source": [
        "# Finding digits in a string"
      ]
    },
    {
      "cell_type": "code",
      "metadata": {
        "colab": {
          "base_uri": "https://localhost:8080/"
        },
        "id": "RvGmww_a1HuS",
        "outputId": "8d2a37f4-9714-4d24-fef0-c002a437edd0"
      },
      "source": [
        "for i in s:\n",
        "  if(i.isdigit()):\n",
        "    print(i)"
      ],
      "execution_count": 25,
      "outputs": [
        {
          "output_type": "stream",
          "text": [
            "1\n",
            "0\n",
            "0\n",
            "1\n",
            "0\n",
            "0\n"
          ],
          "name": "stdout"
        }
      ]
    },
    {
      "cell_type": "code",
      "metadata": {
        "colab": {
          "base_uri": "https://localhost:8080/"
        },
        "id": "Fz4qU-nO1P2i",
        "outputId": "195631c7-ff3c-4c98-b7e2-d53586fc7cbc"
      },
      "source": [
        "words = s.split()\n",
        "for i in words:\n",
        "  if(i.isdigit()):\n",
        "    print(i)"
      ],
      "execution_count": 27,
      "outputs": [
        {
          "output_type": "stream",
          "text": [
            "100\n",
            "100\n"
          ],
          "name": "stdout"
        }
      ]
    },
    {
      "cell_type": "markdown",
      "metadata": {
        "id": "MaOFiu9-7G66"
      },
      "source": [
        "# Only alphabets from a string"
      ]
    },
    {
      "cell_type": "code",
      "metadata": {
        "colab": {
          "base_uri": "https://localhost:8080/"
        },
        "id": "9-4UsGqA1ltv",
        "outputId": "771d1fed-f09a-440d-8208-32e4b66c8b9b"
      },
      "source": [
        "for i in words:\n",
        "  if(i.isalpha()):\n",
        "    print(i)"
      ],
      "execution_count": 28,
      "outputs": [
        {
          "output_type": "stream",
          "text": [
            "My\n",
            "marks\n",
            "are\n",
            "out\n",
            "of\n"
          ],
          "name": "stdout"
        }
      ]
    }
  ]
}